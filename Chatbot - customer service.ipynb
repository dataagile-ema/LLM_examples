{
 "cells": [
  {
   "cell_type": "code",
   "execution_count": 2,
   "metadata": {},
   "outputs": [],
   "source": [
    "from langchain.llms import OpenAI\n",
    "import os\n",
    "api_key = os.getenv('API_KEY_OPEN_AI')\n",
    "# initialize the models\n",
    "openai = OpenAI(\n",
    "    model_name=\"text-davinci-003\",\n",
    "    openai_api_key=api_key\n",
    ")"
   ]
  },
  {
   "cell_type": "code",
   "execution_count": 24,
   "metadata": {},
   "outputs": [],
   "source": [
    "prompt = \"\"\"Answer the question based on the context below. If the\n",
    "question cannot be answered using the information provided answer\n",
    "with \"Contact customer service: 08-10010001\".\n",
    "\n",
    "Context: Any purchase can be returned up to 30 days after delivery date. You the customer pay for shipping for returns. \n",
    "The product have to be in the same condition as when deliverad when returned.\n",
    "\n",
    "\n",
    "Question: What conditions need to be met to return a product?\n",
    "\n",
    "Answer: \"\"\""
   ]
  },
  {
   "cell_type": "code",
   "execution_count": 25,
   "metadata": {},
   "outputs": [
    {
     "name": "stdout",
     "output_type": "stream",
     "text": [
      " The product needs to be returned within 30 days of the delivery date and in the same condition as when delivered. The customer pays for the shipping of the return.\n"
     ]
    }
   ],
   "source": [
    "print(openai(prompt))"
   ]
  },
  {
   "cell_type": "code",
   "execution_count": 26,
   "metadata": {},
   "outputs": [],
   "source": [
    "prompt = \"\"\"Answer the question based on the context below. If the\n",
    "question cannot be answered using the information provided answer\n",
    "with \"I dont know. Contact customer support: 08-1010001\".\n",
    "\n",
    "Context: Any purchase can be returned up to 30 days after delivery date. You the customer pay for shipping for returns. The product have to be in the same condition as when deliverad when returned.\n",
    "\n",
    "\n",
    "Question: The product is used and worn, can i still return it?\n",
    "\n",
    "Answer: \"\"\""
   ]
  },
  {
   "cell_type": "code",
   "execution_count": 27,
   "metadata": {},
   "outputs": [
    {
     "name": "stdout",
     "output_type": "stream",
     "text": [
      " No, you cannot return the product if it is used or worn.\n"
     ]
    }
   ],
   "source": [
    "print(openai(prompt))"
   ]
  },
  {
   "cell_type": "code",
   "execution_count": 28,
   "metadata": {},
   "outputs": [],
   "source": [
    "prompt = \"\"\"Answer the question based on the context below. If the\n",
    "question cannot be answered using the information provided answer\n",
    "with \"I dont know. Contact customer support: 08-1010001\".\n",
    "\n",
    "Context: Any purchase can be returned up to 30 days after delivery date. You the customer pay for shipping for returns. \n",
    "The product have to be in the same condition as when deliverad when returned.\n",
    "\n",
    "\n",
    "Question: The product was not what I expected, can I return it?\n",
    "\n",
    "Answer: \"\"\""
   ]
  },
  {
   "cell_type": "code",
   "execution_count": 29,
   "metadata": {},
   "outputs": [
    {
     "name": "stdout",
     "output_type": "stream",
     "text": [
      " Yes, you can return the product up to 30 days after the delivery date as long as it is in the same condition as when delivered. You will pay for the shipping for the return.\n"
     ]
    }
   ],
   "source": [
    "print(openai(prompt))"
   ]
  },
  {
   "cell_type": "code",
   "execution_count": 5,
   "metadata": {},
   "outputs": [],
   "source": [
    "prompt = \"\"\"Answer the question based on the context below. If the\n",
    "question cannot be answered using the information provided answer\n",
    "with \"I dont know. Contact customer support: 08-1010001\".\n",
    "\n",
    "Context: Any purchase can be returned up to 30 days after delivery date. You the customer pay for shipping for returns. \n",
    "The product have to be in the same condition as when deliverad when returned.\n",
    "\n",
    "\n",
    "Question: Can I drop off my return at the store instead of sending it as a package?\n",
    "\n",
    "Answer: \"\"\""
   ]
  },
  {
   "cell_type": "code",
   "execution_count": 6,
   "metadata": {},
   "outputs": [
    {
     "name": "stdout",
     "output_type": "stream",
     "text": [
      " I don't know. Contact customer support: 08-1010001.\n"
     ]
    }
   ],
   "source": [
    "print(openai(prompt))"
   ]
  }
 ],
 "metadata": {
  "kernelspec": {
   "display_name": "sl_app",
   "language": "python",
   "name": "python3"
  },
  "language_info": {
   "codemirror_mode": {
    "name": "ipython",
    "version": 3
   },
   "file_extension": ".py",
   "mimetype": "text/x-python",
   "name": "python",
   "nbconvert_exporter": "python",
   "pygments_lexer": "ipython3",
   "version": "3.11.0"
  },
  "orig_nbformat": 4,
  "vscode": {
   "interpreter": {
    "hash": "4b9edea53bda8554003e3f4d75648ed60ace1ff8c6ee6a46de36c6d8d62ef194"
   }
  }
 },
 "nbformat": 4,
 "nbformat_minor": 2
}
